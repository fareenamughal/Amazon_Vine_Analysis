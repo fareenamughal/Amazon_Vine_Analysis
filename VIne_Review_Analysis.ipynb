{
 "cells": [
  {
   "cell_type": "markdown",
   "id": "15ef02a7",
   "metadata": {},
   "source": [
    "Deliverable 2: Determine Bias of Vine Reviews (40 points)"
   ]
  },
  {
   "cell_type": "markdown",
   "id": "44aadf67",
   "metadata": {},
   "source": [
    "\n"
   ]
  },
  {
   "cell_type": "code",
   "execution_count": 1,
   "id": "6c05899a",
   "metadata": {},
   "outputs": [],
   "source": [
    "# Import Dependencies\n",
    "import pandas as pd"
   ]
  },
  {
   "cell_type": "markdown",
   "id": "46323780",
   "metadata": {},
   "source": [
    "1. Filter the data and create a new DataFrame or table to retrieve all the rows where the total_votes count is equal to or greater than 20 to pick reviews that are more likely to be helpful and to avoid having division by zero errors later on.\n"
   ]
  },
  {
   "cell_type": "markdown",
   "id": "7742f958",
   "metadata": {},
   "source": [
    "DataFrame or table for the vine_table"
   ]
  },
  {
   "cell_type": "code",
   "execution_count": 2,
   "id": "73eef2a0",
   "metadata": {},
   "outputs": [
    {
     "data": {
      "text/html": [
       "<div>\n",
       "<style scoped>\n",
       "    .dataframe tbody tr th:only-of-type {\n",
       "        vertical-align: middle;\n",
       "    }\n",
       "\n",
       "    .dataframe tbody tr th {\n",
       "        vertical-align: top;\n",
       "    }\n",
       "\n",
       "    .dataframe thead th {\n",
       "        text-align: right;\n",
       "    }\n",
       "</style>\n",
       "<table border=\"1\" class=\"dataframe\">\n",
       "  <thead>\n",
       "    <tr style=\"text-align: right;\">\n",
       "      <th></th>\n",
       "      <th>review_id</th>\n",
       "      <th>star_rating</th>\n",
       "      <th>helpful_votes</th>\n",
       "      <th>total_votes</th>\n",
       "      <th>vine</th>\n",
       "      <th>verified_purchase</th>\n",
       "    </tr>\n",
       "  </thead>\n",
       "  <tbody>\n",
       "    <tr>\n",
       "      <th>0</th>\n",
       "      <td>R3P2HIOQCIN5ZU</td>\n",
       "      <td>1</td>\n",
       "      <td>0</td>\n",
       "      <td>0</td>\n",
       "      <td>N</td>\n",
       "      <td>Y</td>\n",
       "    </tr>\n",
       "    <tr>\n",
       "      <th>1</th>\n",
       "      <td>R12VVR0WH5Q24V</td>\n",
       "      <td>5</td>\n",
       "      <td>0</td>\n",
       "      <td>0</td>\n",
       "      <td>N</td>\n",
       "      <td>Y</td>\n",
       "    </tr>\n",
       "    <tr>\n",
       "      <th>2</th>\n",
       "      <td>RNCCKB6TV5EEF</td>\n",
       "      <td>4</td>\n",
       "      <td>0</td>\n",
       "      <td>0</td>\n",
       "      <td>N</td>\n",
       "      <td>Y</td>\n",
       "    </tr>\n",
       "    <tr>\n",
       "      <th>3</th>\n",
       "      <td>R2NZXYIVCGB13W</td>\n",
       "      <td>5</td>\n",
       "      <td>0</td>\n",
       "      <td>6</td>\n",
       "      <td>N</td>\n",
       "      <td>Y</td>\n",
       "    </tr>\n",
       "    <tr>\n",
       "      <th>4</th>\n",
       "      <td>R2EQ1TG9IT3OEQ</td>\n",
       "      <td>3</td>\n",
       "      <td>0</td>\n",
       "      <td>0</td>\n",
       "      <td>N</td>\n",
       "      <td>Y</td>\n",
       "    </tr>\n",
       "  </tbody>\n",
       "</table>\n",
       "</div>"
      ],
      "text/plain": [
       "        review_id  star_rating  helpful_votes  total_votes vine  \\\n",
       "0  R3P2HIOQCIN5ZU            1              0            0    N   \n",
       "1  R12VVR0WH5Q24V            5              0            0    N   \n",
       "2   RNCCKB6TV5EEF            4              0            0    N   \n",
       "3  R2NZXYIVCGB13W            5              0            6    N   \n",
       "4  R2EQ1TG9IT3OEQ            3              0            0    N   \n",
       "\n",
       "  verified_purchase  \n",
       "0                 Y  \n",
       "1                 Y  \n",
       "2                 Y  \n",
       "3                 Y  \n",
       "4                 Y  "
      ]
     },
     "execution_count": 2,
     "metadata": {},
     "output_type": "execute_result"
    }
   ],
   "source": [
    "# Make a reference to the vine_tabel.csv file path\n",
    "csv_path = \"Resources/pgAdmin_vine_table.csv\"\n",
    "\n",
    "# Import the books.csv file as a DataFrame\n",
    "vine_df = pd.read_csv(csv_path)\n",
    "vine_df.head()"
   ]
  },
  {
   "cell_type": "code",
   "execution_count": 3,
   "id": "57ab83fd",
   "metadata": {},
   "outputs": [
    {
     "data": {
      "text/plain": [
       "review_id            8733832\n",
       "star_rating          8733832\n",
       "helpful_votes        8733832\n",
       "total_votes          8733832\n",
       "vine                 8733832\n",
       "verified_purchase    8733832\n",
       "dtype: int64"
      ]
     },
     "execution_count": 3,
     "metadata": {},
     "output_type": "execute_result"
    }
   ],
   "source": [
    "# To ensure data is clean look for missing values. The belwo shows no missing values so no need to run the drop null values function. \n",
    "vine_df.count()"
   ]
  },
  {
   "cell_type": "code",
   "execution_count": 4,
   "id": "7e790506",
   "metadata": {},
   "outputs": [
    {
     "data": {
      "text/plain": [
       "review_id            object\n",
       "star_rating           int64\n",
       "helpful_votes         int64\n",
       "total_votes           int64\n",
       "vine                 object\n",
       "verified_purchase    object\n",
       "dtype: object"
      ]
     },
     "execution_count": 4,
     "metadata": {},
     "output_type": "execute_result"
    }
   ],
   "source": [
    "#  Get/recheck the data types of each column.\n",
    "vine_df.dtypes"
   ]
  },
  {
   "cell_type": "markdown",
   "id": "12a8e548",
   "metadata": {},
   "source": [
    "The data is filtered to create a DataFrame or table where there are 20 or more total votes"
   ]
  },
  {
   "cell_type": "code",
   "execution_count": 5,
   "id": "8a072fec",
   "metadata": {},
   "outputs": [
    {
     "data": {
      "text/html": [
       "<div>\n",
       "<style scoped>\n",
       "    .dataframe tbody tr th:only-of-type {\n",
       "        vertical-align: middle;\n",
       "    }\n",
       "\n",
       "    .dataframe tbody tr th {\n",
       "        vertical-align: top;\n",
       "    }\n",
       "\n",
       "    .dataframe thead th {\n",
       "        text-align: right;\n",
       "    }\n",
       "</style>\n",
       "<table border=\"1\" class=\"dataframe\">\n",
       "  <thead>\n",
       "    <tr style=\"text-align: right;\">\n",
       "      <th></th>\n",
       "      <th>review_id</th>\n",
       "      <th>star_rating</th>\n",
       "      <th>helpful_votes</th>\n",
       "      <th>total_votes</th>\n",
       "      <th>vine</th>\n",
       "      <th>verified_purchase</th>\n",
       "    </tr>\n",
       "  </thead>\n",
       "  <tbody>\n",
       "    <tr>\n",
       "      <th>218</th>\n",
       "      <td>R37F42INKX7L9K</td>\n",
       "      <td>5</td>\n",
       "      <td>45</td>\n",
       "      <td>49</td>\n",
       "      <td>N</td>\n",
       "      <td>Y</td>\n",
       "    </tr>\n",
       "    <tr>\n",
       "      <th>557</th>\n",
       "      <td>R2EHKYNEP8WVSR</td>\n",
       "      <td>5</td>\n",
       "      <td>25</td>\n",
       "      <td>25</td>\n",
       "      <td>N</td>\n",
       "      <td>Y</td>\n",
       "    </tr>\n",
       "    <tr>\n",
       "      <th>560</th>\n",
       "      <td>RXOS7BHID0UHL</td>\n",
       "      <td>5</td>\n",
       "      <td>16</td>\n",
       "      <td>27</td>\n",
       "      <td>N</td>\n",
       "      <td>N</td>\n",
       "    </tr>\n",
       "    <tr>\n",
       "      <th>909</th>\n",
       "      <td>R33HHGFPB403GM</td>\n",
       "      <td>5</td>\n",
       "      <td>19</td>\n",
       "      <td>21</td>\n",
       "      <td>N</td>\n",
       "      <td>Y</td>\n",
       "    </tr>\n",
       "    <tr>\n",
       "      <th>1232</th>\n",
       "      <td>RY9O9XNLP464N</td>\n",
       "      <td>2</td>\n",
       "      <td>19</td>\n",
       "      <td>22</td>\n",
       "      <td>N</td>\n",
       "      <td>Y</td>\n",
       "    </tr>\n",
       "  </tbody>\n",
       "</table>\n",
       "</div>"
      ],
      "text/plain": [
       "           review_id  star_rating  helpful_votes  total_votes vine  \\\n",
       "218   R37F42INKX7L9K            5             45           49    N   \n",
       "557   R2EHKYNEP8WVSR            5             25           25    N   \n",
       "560    RXOS7BHID0UHL            5             16           27    N   \n",
       "909   R33HHGFPB403GM            5             19           21    N   \n",
       "1232   RY9O9XNLP464N            2             19           22    N   \n",
       "\n",
       "     verified_purchase  \n",
       "218                  Y  \n",
       "557                  Y  \n",
       "560                  N  \n",
       "909                  Y  \n",
       "1232                 Y  "
      ]
     },
     "execution_count": 5,
     "metadata": {},
     "output_type": "execute_result"
    }
   ],
   "source": [
    "# Filter vine_df for total_votes(count) >= 20\n",
    "vine_vc_df = vine_df[vine_df.total_votes >= 20]\n",
    "vine_vc_df.head()"
   ]
  },
  {
   "cell_type": "markdown",
   "id": "606e9e63",
   "metadata": {},
   "source": [
    "2. Filter the new DataFrame or table created in Step 1 and create a new DataFrame or table to retrieve all the rows where the number of helpful_votes divided by total_votes is equal to or greater than 50%"
   ]
  },
  {
   "cell_type": "code",
   "execution_count": 6,
   "id": "72d91148",
   "metadata": {},
   "outputs": [
    {
     "data": {
      "text/html": [
       "<div>\n",
       "<style scoped>\n",
       "    .dataframe tbody tr th:only-of-type {\n",
       "        vertical-align: middle;\n",
       "    }\n",
       "\n",
       "    .dataframe tbody tr th {\n",
       "        vertical-align: top;\n",
       "    }\n",
       "\n",
       "    .dataframe thead th {\n",
       "        text-align: right;\n",
       "    }\n",
       "</style>\n",
       "<table border=\"1\" class=\"dataframe\">\n",
       "  <thead>\n",
       "    <tr style=\"text-align: right;\">\n",
       "      <th></th>\n",
       "      <th>review_id</th>\n",
       "      <th>star_rating</th>\n",
       "      <th>helpful_votes</th>\n",
       "      <th>total_votes</th>\n",
       "      <th>vine</th>\n",
       "      <th>verified_purchase</th>\n",
       "    </tr>\n",
       "  </thead>\n",
       "  <tbody>\n",
       "    <tr>\n",
       "      <th>8733667</th>\n",
       "      <td>R1FALBZOUYCZTD</td>\n",
       "      <td>5</td>\n",
       "      <td>29</td>\n",
       "      <td>31</td>\n",
       "      <td>N</td>\n",
       "      <td>N</td>\n",
       "    </tr>\n",
       "    <tr>\n",
       "      <th>8733681</th>\n",
       "      <td>R7M3UQX8B04NM</td>\n",
       "      <td>5</td>\n",
       "      <td>20</td>\n",
       "      <td>21</td>\n",
       "      <td>N</td>\n",
       "      <td>N</td>\n",
       "    </tr>\n",
       "    <tr>\n",
       "      <th>8733687</th>\n",
       "      <td>R1UYT6MT2IOAJN</td>\n",
       "      <td>5</td>\n",
       "      <td>23</td>\n",
       "      <td>24</td>\n",
       "      <td>N</td>\n",
       "      <td>N</td>\n",
       "    </tr>\n",
       "    <tr>\n",
       "      <th>8733760</th>\n",
       "      <td>R3QRYRJWX0N6H3</td>\n",
       "      <td>4</td>\n",
       "      <td>29</td>\n",
       "      <td>33</td>\n",
       "      <td>N</td>\n",
       "      <td>N</td>\n",
       "    </tr>\n",
       "    <tr>\n",
       "      <th>8733802</th>\n",
       "      <td>R20WGBU79NREU</td>\n",
       "      <td>5</td>\n",
       "      <td>14</td>\n",
       "      <td>20</td>\n",
       "      <td>N</td>\n",
       "      <td>N</td>\n",
       "    </tr>\n",
       "  </tbody>\n",
       "</table>\n",
       "</div>"
      ],
      "text/plain": [
       "              review_id  star_rating  helpful_votes  total_votes vine  \\\n",
       "8733667  R1FALBZOUYCZTD            5             29           31    N   \n",
       "8733681   R7M3UQX8B04NM            5             20           21    N   \n",
       "8733687  R1UYT6MT2IOAJN            5             23           24    N   \n",
       "8733760  R3QRYRJWX0N6H3            4             29           33    N   \n",
       "8733802   R20WGBU79NREU            5             14           20    N   \n",
       "\n",
       "        verified_purchase  \n",
       "8733667                 N  \n",
       "8733681                 N  \n",
       "8733687                 N  \n",
       "8733760                 N  \n",
       "8733802                 N  "
      ]
     },
     "execution_count": 6,
     "metadata": {},
     "output_type": "execute_result"
    }
   ],
   "source": [
    "# Filter vine_vc_df to get helpful_votes/total_votes >=50%\n",
    "vine_helpful_df = vine_vc_df[vine_vc_df.helpful_votes/vine_vc_df.total_votes * 100 >= 50]\n",
    "vine_helpful_df.tail()"
   ]
  },
  {
   "cell_type": "markdown",
   "id": "9e598362",
   "metadata": {},
   "source": [
    "3.Filter the DataFrame or table created in Step 2, and create a new DataFrame or table that retrieves all the rows where a review was written as part of the Vine program (paid), vine == 'Y'."
   ]
  },
  {
   "cell_type": "code",
   "execution_count": 7,
   "id": "aece5dee",
   "metadata": {},
   "outputs": [
    {
     "data": {
      "text/html": [
       "<div>\n",
       "<style scoped>\n",
       "    .dataframe tbody tr th:only-of-type {\n",
       "        vertical-align: middle;\n",
       "    }\n",
       "\n",
       "    .dataframe tbody tr th {\n",
       "        vertical-align: top;\n",
       "    }\n",
       "\n",
       "    .dataframe thead th {\n",
       "        text-align: right;\n",
       "    }\n",
       "</style>\n",
       "<table border=\"1\" class=\"dataframe\">\n",
       "  <thead>\n",
       "    <tr style=\"text-align: right;\">\n",
       "      <th></th>\n",
       "      <th>review_id</th>\n",
       "      <th>star_rating</th>\n",
       "      <th>helpful_votes</th>\n",
       "      <th>total_votes</th>\n",
       "      <th>vine</th>\n",
       "      <th>verified_purchase</th>\n",
       "    </tr>\n",
       "  </thead>\n",
       "  <tbody>\n",
       "    <tr>\n",
       "      <th>270349</th>\n",
       "      <td>R2N45ZKRRZS856</td>\n",
       "      <td>5</td>\n",
       "      <td>21</td>\n",
       "      <td>22</td>\n",
       "      <td>Y</td>\n",
       "      <td>N</td>\n",
       "    </tr>\n",
       "    <tr>\n",
       "      <th>306676</th>\n",
       "      <td>R5OMLMK13A8NS</td>\n",
       "      <td>5</td>\n",
       "      <td>34</td>\n",
       "      <td>38</td>\n",
       "      <td>Y</td>\n",
       "      <td>N</td>\n",
       "    </tr>\n",
       "    <tr>\n",
       "      <th>1050160</th>\n",
       "      <td>R2MPEQ4SPTEQNS</td>\n",
       "      <td>4</td>\n",
       "      <td>180</td>\n",
       "      <td>184</td>\n",
       "      <td>Y</td>\n",
       "      <td>N</td>\n",
       "    </tr>\n",
       "    <tr>\n",
       "      <th>1224726</th>\n",
       "      <td>RIR0D3KJ0CQ31</td>\n",
       "      <td>4</td>\n",
       "      <td>21</td>\n",
       "      <td>21</td>\n",
       "      <td>Y</td>\n",
       "      <td>N</td>\n",
       "    </tr>\n",
       "    <tr>\n",
       "      <th>1231743</th>\n",
       "      <td>R1SPWJDHUWWC5E</td>\n",
       "      <td>5</td>\n",
       "      <td>88</td>\n",
       "      <td>98</td>\n",
       "      <td>Y</td>\n",
       "      <td>N</td>\n",
       "    </tr>\n",
       "  </tbody>\n",
       "</table>\n",
       "</div>"
      ],
      "text/plain": [
       "              review_id  star_rating  helpful_votes  total_votes vine  \\\n",
       "270349   R2N45ZKRRZS856            5             21           22    Y   \n",
       "306676    R5OMLMK13A8NS            5             34           38    Y   \n",
       "1050160  R2MPEQ4SPTEQNS            4            180          184    Y   \n",
       "1224726   RIR0D3KJ0CQ31            4             21           21    Y   \n",
       "1231743  R1SPWJDHUWWC5E            5             88           98    Y   \n",
       "\n",
       "        verified_purchase  \n",
       "270349                  N  \n",
       "306676                  N  \n",
       "1050160                 N  \n",
       "1224726                 N  \n",
       "1231743                 N  "
      ]
     },
     "execution_count": 7,
     "metadata": {},
     "output_type": "execute_result"
    }
   ],
   "source": [
    "# Filter vine_helpful_df to extract the vine paid program where vine=Y\n",
    "vine_paid_df = vine_helpful_df[vine_helpful_df.vine==\"Y\"]\n",
    "vine_paid_df.head()"
   ]
  },
  {
   "cell_type": "markdown",
   "id": "3826c709",
   "metadata": {},
   "source": [
    "4.Repeat Step 3, but this time retrieve all the rows where the review was not part of the Vine program (unpaid), vine == 'N'.\n",
    "\n"
   ]
  },
  {
   "cell_type": "code",
   "execution_count": 8,
   "id": "ebd798e0",
   "metadata": {},
   "outputs": [
    {
     "data": {
      "text/html": [
       "<div>\n",
       "<style scoped>\n",
       "    .dataframe tbody tr th:only-of-type {\n",
       "        vertical-align: middle;\n",
       "    }\n",
       "\n",
       "    .dataframe tbody tr th {\n",
       "        vertical-align: top;\n",
       "    }\n",
       "\n",
       "    .dataframe thead th {\n",
       "        text-align: right;\n",
       "    }\n",
       "</style>\n",
       "<table border=\"1\" class=\"dataframe\">\n",
       "  <thead>\n",
       "    <tr style=\"text-align: right;\">\n",
       "      <th></th>\n",
       "      <th>review_id</th>\n",
       "      <th>star_rating</th>\n",
       "      <th>helpful_votes</th>\n",
       "      <th>total_votes</th>\n",
       "      <th>vine</th>\n",
       "      <th>verified_purchase</th>\n",
       "    </tr>\n",
       "  </thead>\n",
       "  <tbody>\n",
       "    <tr>\n",
       "      <th>218</th>\n",
       "      <td>R37F42INKX7L9K</td>\n",
       "      <td>5</td>\n",
       "      <td>45</td>\n",
       "      <td>49</td>\n",
       "      <td>N</td>\n",
       "      <td>Y</td>\n",
       "    </tr>\n",
       "    <tr>\n",
       "      <th>557</th>\n",
       "      <td>R2EHKYNEP8WVSR</td>\n",
       "      <td>5</td>\n",
       "      <td>25</td>\n",
       "      <td>25</td>\n",
       "      <td>N</td>\n",
       "      <td>Y</td>\n",
       "    </tr>\n",
       "    <tr>\n",
       "      <th>560</th>\n",
       "      <td>RXOS7BHID0UHL</td>\n",
       "      <td>5</td>\n",
       "      <td>16</td>\n",
       "      <td>27</td>\n",
       "      <td>N</td>\n",
       "      <td>N</td>\n",
       "    </tr>\n",
       "    <tr>\n",
       "      <th>909</th>\n",
       "      <td>R33HHGFPB403GM</td>\n",
       "      <td>5</td>\n",
       "      <td>19</td>\n",
       "      <td>21</td>\n",
       "      <td>N</td>\n",
       "      <td>Y</td>\n",
       "    </tr>\n",
       "    <tr>\n",
       "      <th>1232</th>\n",
       "      <td>RY9O9XNLP464N</td>\n",
       "      <td>2</td>\n",
       "      <td>19</td>\n",
       "      <td>22</td>\n",
       "      <td>N</td>\n",
       "      <td>Y</td>\n",
       "    </tr>\n",
       "  </tbody>\n",
       "</table>\n",
       "</div>"
      ],
      "text/plain": [
       "           review_id  star_rating  helpful_votes  total_votes vine  \\\n",
       "218   R37F42INKX7L9K            5             45           49    N   \n",
       "557   R2EHKYNEP8WVSR            5             25           25    N   \n",
       "560    RXOS7BHID0UHL            5             16           27    N   \n",
       "909   R33HHGFPB403GM            5             19           21    N   \n",
       "1232   RY9O9XNLP464N            2             19           22    N   \n",
       "\n",
       "     verified_purchase  \n",
       "218                  Y  \n",
       "557                  Y  \n",
       "560                  N  \n",
       "909                  Y  \n",
       "1232                 Y  "
      ]
     },
     "execution_count": 8,
     "metadata": {},
     "output_type": "execute_result"
    }
   ],
   "source": [
    "# Filter vine_helpful_df to extract the vine unpaid program where vine=N\n",
    "vine_unpaid_df = vine_helpful_df[vine_helpful_df.vine==\"N\"]\n",
    "vine_unpaid_df.head()"
   ]
  },
  {
   "cell_type": "markdown",
   "id": "3f57edc2",
   "metadata": {},
   "source": [
    "5.Determine the total number of reviews, the number of 5-star reviews, and the percentage of 5-star reviews for the two types of review (paid vs unpaid)."
   ]
  },
  {
   "cell_type": "code",
   "execution_count": 9,
   "id": "e9766237",
   "metadata": {},
   "outputs": [],
   "source": [
    "# Total helpful revires, 5 star reviews & percentage for total helpful reviews\n",
    "total_helpful_reviews = vine_helpful_df.review_id.count()\n",
    "five_star_revs = vine_helpful_df.review_id[vine_helpful_df.star_rating == 5].count()\n",
    "Five_Star_Perc = five_star_revs/total_helpful_reviews*100\n"
   ]
  },
  {
   "cell_type": "code",
   "execution_count": 10,
   "id": "1b0523ff",
   "metadata": {},
   "outputs": [],
   "source": [
    "# step 2 vine_paid_df and step 3 vine_unpaid_df already generated. \n",
    "\n",
    "# vine_paid_df total reviews, 5 star reviews and percentage\n",
    "TtlRevCountY = vine_paid_df.review_id.count()\n",
    "FiveStarRevCountY = vine_paid_df.review_id[vine_paid_df.star_rating == 5].count()\n",
    "FiveStarPercY = FiveStarRevCountY/TtlRevCountY * 100\n",
    "\n",
    "# vine_paid_df total reviews, 5 star reviews and percentage\n",
    "TtlRevCountN = vine_unpaid_df.review_id.count()\n",
    "FiveStarRevCountN = vine_unpaid_df.review_id[vine_unpaid_df.star_rating == 5].count()\n",
    "FiveStarPercN = FiveStarRevCountN/TtlRevCountN * 100\n"
   ]
  },
  {
   "cell_type": "code",
   "execution_count": 11,
   "id": "0c6b9635",
   "metadata": {},
   "outputs": [
    {
     "data": {
      "text/html": [
       "<div>\n",
       "<style scoped>\n",
       "    .dataframe tbody tr th:only-of-type {\n",
       "        vertical-align: middle;\n",
       "    }\n",
       "\n",
       "    .dataframe tbody tr th {\n",
       "        vertical-align: top;\n",
       "    }\n",
       "\n",
       "    .dataframe thead th {\n",
       "        text-align: right;\n",
       "    }\n",
       "</style>\n",
       "<table border=\"1\" class=\"dataframe\">\n",
       "  <thead>\n",
       "    <tr style=\"text-align: right;\">\n",
       "      <th></th>\n",
       "      <th>Vine member</th>\n",
       "      <th>Total Reviews</th>\n",
       "      <th>Five Star Reviews</th>\n",
       "      <th>Five Star Review %</th>\n",
       "    </tr>\n",
       "  </thead>\n",
       "  <tbody>\n",
       "    <tr>\n",
       "      <th>0</th>\n",
       "      <td>Y</td>\n",
       "      <td>44</td>\n",
       "      <td>26</td>\n",
       "      <td>59.09</td>\n",
       "    </tr>\n",
       "    <tr>\n",
       "      <th>1</th>\n",
       "      <td>N</td>\n",
       "      <td>53974</td>\n",
       "      <td>28950</td>\n",
       "      <td>53.64</td>\n",
       "    </tr>\n",
       "    <tr>\n",
       "      <th>2</th>\n",
       "      <td>Total Helpful Reviews</td>\n",
       "      <td>54018</td>\n",
       "      <td>28976</td>\n",
       "      <td>53.64</td>\n",
       "    </tr>\n",
       "  </tbody>\n",
       "</table>\n",
       "</div>"
      ],
      "text/plain": [
       "             Vine member  Total Reviews  Five Star Reviews  Five Star Review %\n",
       "0                      Y             44                 26               59.09\n",
       "1                      N          53974              28950               53.64\n",
       "2  Total Helpful Reviews          54018              28976               53.64"
      ]
     },
     "execution_count": 11,
     "metadata": {},
     "output_type": "execute_result"
    }
   ],
   "source": [
    "# Generate the summary analysis df from the results above.\n",
    "vine_analysis_df = pd.DataFrame([{\"Vine member\":\"Y\", \"Total Reviews\":TtlRevCountY, \"Five Star Reviews\":FiveStarRevCountY, \"Five Star Review %\":FiveStarPercY},\n",
    "                                 {\"Vine member\":\"N\", \"Total Reviews\":TtlRevCountN, \"Five Star Reviews\":FiveStarRevCountN, \"Five Star Review %\":FiveStarPercN},\n",
    "                                {\"Vine member\":\"Total Helpful Reviews\", \"Total Reviews\":total_helpful_reviews, \"Five Star Reviews\":five_star_revs, \"Five Star Review %\":Five_Star_Perc},\n",
    "                                ])\n",
    "vine_analysis_df.round(2)"
   ]
  },
  {
   "cell_type": "markdown",
   "id": "4799aca2",
   "metadata": {},
   "source": [
    "Additional analysis"
   ]
  },
  {
   "cell_type": "code",
   "execution_count": 12,
   "id": "cd2c34e8",
   "metadata": {},
   "outputs": [
    {
     "data": {
      "text/plain": [
       "0.09"
      ]
     },
     "execution_count": 12,
     "metadata": {},
     "output_type": "execute_result"
    }
   ],
   "source": [
    "# Paid 5 star reviews as a percentage of Total helpful 5 star reviews\n",
    "paid_five_star_revs_perc = FiveStarRevCountY/five_star_revs * 100\n",
    "paid_five_star_revs_perc.round(2)\n"
   ]
  },
  {
   "cell_type": "code",
   "execution_count": 13,
   "id": "2a8843d3",
   "metadata": {},
   "outputs": [
    {
     "data": {
      "text/plain": [
       "99.91"
      ]
     },
     "execution_count": 13,
     "metadata": {},
     "output_type": "execute_result"
    }
   ],
   "source": [
    "# Unpaid 5 star reviews as a percentage of Total helpful 5 star reviews\n",
    "unpaid_five_star_revs_perc = FiveStarRevCountN/five_star_revs * 100\n",
    "unpaid_five_star_revs_perc.round(2)\n"
   ]
  },
  {
   "cell_type": "code",
   "execution_count": null,
   "id": "8abaf550",
   "metadata": {},
   "outputs": [],
   "source": []
  }
 ],
 "metadata": {
  "kernelspec": {
   "display_name": "Python 3 (ipykernel)",
   "language": "python",
   "name": "python3"
  },
  "language_info": {
   "codemirror_mode": {
    "name": "ipython",
    "version": 3
   },
   "file_extension": ".py",
   "mimetype": "text/x-python",
   "name": "python",
   "nbconvert_exporter": "python",
   "pygments_lexer": "ipython3",
   "version": "3.9.13"
  }
 },
 "nbformat": 4,
 "nbformat_minor": 5
}
